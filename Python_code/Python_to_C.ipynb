{
 "cells": [
  {
   "cell_type": "markdown",
   "id": "3ae2117d",
   "metadata": {},
   "source": [
    "This code pulls the matrices from the MPC_LQR file \n",
    "and writes the C++ source and declaration files for these matrices."
   ]
  },
  {
   "cell_type": "code",
   "execution_count": 10,
   "id": "36fdd79f",
   "metadata": {},
   "outputs": [],
   "source": [
    "#If using jupyter\n",
    "!jupyter nbconvert --to script MPC_LQR.ipynb"
   ]
  },
  {
   "cell_type": "code",
   "execution_count": 6,
   "id": "c31e1843",
   "metadata": {
    "scrolled": true
   },
   "outputs": [],
   "source": [
    "import numpy as np\n",
    "import importlib\n",
    "import MPC_LQR\n",
    "importlib.reload(MPC_LQR)\n",
    "\n",
    "from MPC_LQR import H, f_theta, A_constraints, b, W"
   ]
  },
  {
   "cell_type": "code",
   "execution_count": 7,
   "id": "294517e7",
   "metadata": {},
   "outputs": [],
   "source": [
    "A = A_constraints\n",
    "f_theta = f_theta.T"
   ]
  },
  {
   "cell_type": "code",
   "execution_count": 8,
   "id": "44f7207e",
   "metadata": {},
   "outputs": [],
   "source": [
    "def write_c_matrix(matrices, var_names):\n",
    "\n",
    "    hpp_lines = [\"#pragma once\\n\"]\n",
    "    cpp_lines = [f'#include \"matrices.hpp\"\\n']\n",
    "\n",
    "    for i, matrix in enumerate(matrices):\n",
    "        name = var_names[i]\n",
    "        rows, cols = matrix.shape\n",
    "        flat_values = \", \".join(f\"{val:.9f}\" for val in matrix.flatten())\n",
    "\n",
    "        hpp_lines.append(f\"extern double {name}[{rows * cols}];\")\n",
    "        cpp_lines.append(f\"double {name}[{rows * cols}] = {{ {flat_values} }};\\n\")\n",
    "\n",
    "    with open(f\"matrices.hpp\", \"w\") as f:\n",
    "        f.write(\"\\n\".join(hpp_lines))\n",
    "\n",
    "    with open(f\"matrices.cpp\", \"w\") as f:\n",
    "        f.write(\"\\n\".join(cpp_lines))\n",
    "\n",
    "    print(\"done\")"
   ]
  },
  {
   "cell_type": "code",
   "execution_count": 11,
   "id": "77b6630d",
   "metadata": {},
   "outputs": [],
   "source": [
    "write_c_matrix([H, f_theta, A, b, W], [\"H\", \"f_theta\", \"A\", \"b\", \"W\"])"
   ]
  }
 ],
 "metadata": {
  "kernelspec": {
   "display_name": "Python 3 (ipykernel)",
   "language": "python",
   "name": "python3"
  },
  "language_info": {
   "codemirror_mode": {
    "name": "ipython",
    "version": 3
   },
   "file_extension": ".py",
   "mimetype": "text/x-python",
   "name": "python",
   "nbconvert_exporter": "python",
   "pygments_lexer": "ipython3",
   "version": "3.9.18"
  }
 },
 "nbformat": 4,
 "nbformat_minor": 5
}
