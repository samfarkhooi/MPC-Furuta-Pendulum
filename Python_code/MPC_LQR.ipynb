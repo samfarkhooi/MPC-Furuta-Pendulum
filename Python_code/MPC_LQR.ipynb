{
 "cells": [
  {
   "cell_type": "markdown",
   "id": "3d5df573",
   "metadata": {},
   "source": [
    "This code creates the matrices for the MPC model to be carried over to C++, it also performs LQR for comparison"
   ]
  },
  {
   "cell_type": "code",
   "execution_count": 1,
   "id": "7ed4640c",
   "metadata": {},
   "outputs": [],
   "source": [
    "import numpy as np\n",
    "import cvxpy as cp\n",
    "import matplotlib.pyplot as plt\n",
    "from matplotlib.animation import FuncAnimation\n",
    "from scipy import sparse\n",
    "\n",
    "import scipy.integrate as integrate\n",
    "from matplotlib.patches import Rectangle\n",
    "from numpy import sin, cos, pi, sign\n",
    "import control\n",
    "from scipy.integrate import solve_ivp\n",
    "\n",
    "import scipy.integrate as integrate\n",
    "import scipy.linalg as sc\n",
    "\n",
    "%matplotlib notebook"
   ]
  },
  {
   "cell_type": "code",
   "execution_count": 2,
   "id": "562202cd",
   "metadata": {},
   "outputs": [],
   "source": [
    "#Model parameters\n",
    "Lp = 0.129         #m\n",
    "Mp = 0.024         #kg\n",
    "Jp = 1/12*Mp*Lp**2\n",
    "Bp = 0.0005\n",
    "\n",
    "Lr = 0.085\n",
    "Mr = 0.095 \n",
    "g = 9.82\n",
    "Jr = 1/12*Mr*Lr**2\n",
    "Br = 0.0015\n",
    "\n",
    "Rm = 8.4\n",
    "kt = 0.042\n",
    "\n",
    "dt = 0.05"
   ]
  },
  {
   "cell_type": "code",
   "execution_count": 3,
   "id": "2d07786a",
   "metadata": {},
   "outputs": [],
   "source": [
    "#Constants to make the model matrices\n",
    "T = (Mp*Lr**2+Jr)*(Jp + 1/4*Mp*Lp**2) + 1/4*(Mp*Lp*Lr)**2\n",
    "\n",
    "a11 = Jp+1/4*Mp*(Lp**2)\n",
    "a12 = -1/2*Mp*Lp*Lr\n",
    "a21 = -a12\n",
    "a22 = Jr + Mp*Lr**2\n",
    "\n",
    "g0 = g/2*Mp*Lp"
   ]
  },
  {
   "cell_type": "code",
   "execution_count": 4,
   "id": "fa64cd60",
   "metadata": {},
   "outputs": [],
   "source": [
    "#Matrices\n",
    "A = np.array([\n",
    "        [0.0,       T,    0.0,     0.0],\n",
    "        [0.0, -Br*a11, a12*g0, -a12*Bp],\n",
    "        [0.0,     0.0,    0.0,       T],\n",
    "        [0.0, -Br*a21, a22*g0,  -Bp*a22]\n",
    "    ])\n",
    "A = (1/T)*A\n",
    "\n",
    "B = np.array([\n",
    "        [0.0],\n",
    "        [a11],\n",
    "        [0.0],\n",
    "        [a21]\n",
    "    ])\n",
    "B = (-kt/(T*Rm))*B   #Rescale to voltage\n",
    "\n",
    "A_zoh = sc.expm(A*dt)\n",
    "B_zoh = integrate.quad_vec(lambda x: sc.expm(A*x)@B, 0, dt)[0]"
   ]
  },
  {
   "cell_type": "code",
   "execution_count": 5,
   "id": "21f9ca3c",
   "metadata": {},
   "outputs": [],
   "source": [
    "#LQR\n",
    "Q = np.diag([10, 1, 10, 1])\n",
    "R = np.diag([1]) \n",
    "\n",
    "K,S,_ = control.dlqr(A_zoh, B_zoh, Q, R)    #Run discrete LQR\n",
    "Q_f = S                                     #Terminal cost from LQR"
   ]
  },
  {
   "cell_type": "code",
   "execution_count": 6,
   "id": "d2da70da",
   "metadata": {},
   "outputs": [
    {
     "data": {
      "text/plain": [
       "array([[-1.39509209, -1.2058144 , 31.23476634,  2.73290132]])"
      ]
     },
     "execution_count": 6,
     "metadata": {},
     "output_type": "execute_result"
    }
   ],
   "source": [
    "#The control gains\n",
    "-K"
   ]
  },
  {
   "cell_type": "code",
   "execution_count": 7,
   "id": "b9d9a3e3",
   "metadata": {},
   "outputs": [],
   "source": [
    "N = 6\n",
    "\n",
    "QN = sparse.block_diag([Q]*N + [Q_f]).toarray()  #Combining N Q's with 1 Q_f\n",
    "RN = np.kron(np.eye(N), R)"
   ]
  },
  {
   "cell_type": "code",
   "execution_count": 8,
   "id": "42f61928",
   "metadata": {},
   "outputs": [],
   "source": [
    "F = np.vstack([np.linalg.matrix_power(A_zoh, i) for i in range(N+1)])\n",
    "G = np.zeros((4*(N+1),N))\n",
    "\n",
    "for m in range(N+1):\n",
    "    for n in range(N):\n",
    "        if m-1-n < 0:\n",
    "            G[m,n] = 0\n",
    "        else:\n",
    "            G[4*m:4*m+4,n] = (np.linalg.matrix_power(A_zoh, m-n-1) @ B_zoh).T"
   ]
  },
  {
   "cell_type": "code",
   "execution_count": 9,
   "id": "7ac2e1fa",
   "metadata": {},
   "outputs": [],
   "source": [
    "#Constraints\n",
    "H = G.T@QN@G + RN\n",
    "f_theta = G.T@QN@F\n",
    "\n",
    "Ax = np.zeros((6,4))\n",
    "Ax[0,0], Ax[2,2] = (1,1)\n",
    "Ax[1,0], Ax[3,2] = (-1,-1)\n",
    "Ax = np.kron(np.eye(N+1), Ax)\n",
    "\n",
    "Au = np.array([0,0,0,0,1,-1]).reshape(-1,1)\n",
    "Au = np.kron(np.eye(N), Au)\n",
    "Au = np.vstack((Au, np.zeros((6,N))))\n",
    "\n",
    "#The first two values in b below determine the upper and lower bound for the arm's angle\n",
    "#These values are set to both pi/2 and pi/6 in the thesis\n",
    "b = np.array([pi/2, pi/2, pi/6, pi/6, 10, 10]).reshape(-1,1)  \n",
    "b = np.vstack([b for i in range(N+1)])\n",
    "\n",
    "A_constraints = Ax@G + Au\n",
    "W = Ax@F"
   ]
  },
  {
   "cell_type": "code",
   "execution_count": 10,
   "id": "433234e3",
   "metadata": {},
   "outputs": [],
   "source": [
    "def MPC(init):\n",
    "    u = cp.Variable((N, 1))\n",
    "    epsilon = cp.Variable()\n",
    "    \n",
    "    #Define the cost function and constriants\n",
    "    cost = 0.5*(cp.quad_form(u,H)) + ((f_theta@init).T)@u + epsilon**2\n",
    "    constr = [(Ax@G + Au)@u <= (b-(Ax@F@init)) + epsilon]\n",
    "    constr.append(epsilon >= 0)\n",
    "    \n",
    "    #Formulate and solve the optimization problem\n",
    "    prob = cp.Problem(cp.Minimize(cost), constr)\n",
    "    prob.solve(verbose=False)\n",
    "\n",
    "    if prob.status == cp.OPTIMAL:\n",
    "        ou = np.array((u.value[0, :])).flatten()[0]\n",
    "    else:\n",
    "        ou = None\n",
    "    \n",
    "    return ou         #Output u is only the first value out of the N computed u values"
   ]
  },
  {
   "cell_type": "code",
   "execution_count": 11,
   "id": "79c0f04c",
   "metadata": {},
   "outputs": [
    {
     "data": {
      "text/plain": [
       "-1.3935526486801302"
      ]
     },
     "execution_count": 11,
     "metadata": {},
     "output_type": "execute_result"
    }
   ],
   "source": [
    "#Here we can try what the control input is for a given state \n",
    "#(should be similar to LQR when not close to a constriant)\n",
    "\n",
    "state_init = np.array([1, 0, 0, 0])\n",
    "MPC(state_init)"
   ]
  }
 ],
 "metadata": {
  "kernelspec": {
   "display_name": "Python 3 (ipykernel)",
   "language": "python",
   "name": "python3"
  },
  "language_info": {
   "codemirror_mode": {
    "name": "ipython",
    "version": 3
   },
   "file_extension": ".py",
   "mimetype": "text/x-python",
   "name": "python",
   "nbconvert_exporter": "python",
   "pygments_lexer": "ipython3",
   "version": "3.9.18"
  }
 },
 "nbformat": 4,
 "nbformat_minor": 5
}
